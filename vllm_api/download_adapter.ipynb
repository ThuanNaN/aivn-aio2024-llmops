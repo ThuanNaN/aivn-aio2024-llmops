{
 "cells": [
  {
   "cell_type": "code",
   "execution_count": 32,
   "id": "35dd6632",
   "metadata": {},
   "outputs": [
    {
     "data": {
      "application/vnd.jupyter.widget-view+json": {
       "model_id": "5ff77a6e0f414672b3ab5fb7d1429c77",
       "version_major": 2,
       "version_minor": 0
      },
      "text/plain": [
       "Fetching 7 files:   0%|          | 0/7 [00:00<?, ?it/s]"
      ]
     },
     "metadata": {},
     "output_type": "display_data"
    },
    {
     "data": {
      "application/vnd.jupyter.widget-view+json": {
       "model_id": "e4b66bfa408f428baacd37e16f1651da",
       "version_major": 2,
       "version_minor": 0
      },
      "text/plain": [
       "Fetching 4 files:   0%|          | 0/4 [00:00<?, ?it/s]"
      ]
     },
     "metadata": {},
     "output_type": "display_data"
    }
   ],
   "source": [
    "from huggingface_hub import snapshot_download\n",
    "\n",
    "vsf_lora_path = snapshot_download(repo_id=\"thuanan/Llama-3.2-1B-Instruct-lora-vsf\")\n",
    "med_qa_lora_path = snapshot_download(repo_id=\"thuanan/med-mcqa-llama-3.2-1B-Instruct-4bit-lora\")"
   ]
  },
  {
   "cell_type": "code",
   "execution_count": 33,
   "id": "95aa1b0d",
   "metadata": {},
   "outputs": [
    {
     "data": {
      "text/plain": [
       "'/home/thuannd/.cache/huggingface/hub/models--thuanan--med-mcqa-llama-3.2-1B-Instruct-4bit-lora/snapshots/90e2a7c4a8d782e4e75207756acfba98cfb236aa'"
      ]
     },
     "execution_count": 33,
     "metadata": {},
     "output_type": "execute_result"
    }
   ],
   "source": [
    "med_qa_lora_path"
   ]
  },
  {
   "cell_type": "code",
   "execution_count": 34,
   "id": "9afce603",
   "metadata": {},
   "outputs": [
    {
     "data": {
      "text/plain": [
       "'/home/thuannd/.cache/huggingface/hub/models--thuanan--Llama-3.2-1B-Instruct-lora-vsf/snapshots/a4ecdb44c2d665ad5a2cfcbc6f005f3e2e3646cc'"
      ]
     },
     "execution_count": 34,
     "metadata": {},
     "output_type": "execute_result"
    }
   ],
   "source": [
    "vsf_lora_path"
   ]
  }
 ],
 "metadata": {
  "kernelspec": {
   "display_name": "llmops",
   "language": "python",
   "name": "python3"
  },
  "language_info": {
   "codemirror_mode": {
    "name": "ipython",
    "version": 3
   },
   "file_extension": ".py",
   "mimetype": "text/x-python",
   "name": "python",
   "nbconvert_exporter": "python",
   "pygments_lexer": "ipython3",
   "version": "3.12.9"
  }
 },
 "nbformat": 4,
 "nbformat_minor": 5
}
